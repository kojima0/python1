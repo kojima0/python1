{
 "cells": [
  {
   "cell_type": "code",
   "execution_count": 2,
   "metadata": {},
   "outputs": [],
   "source": [
    "%matplotlib inline\n",
    "import matplotlib.pyplot as plt\n",
    "import numpy as np"
   ]
  },
  {
   "cell_type": "code",
   "execution_count": 7,
   "metadata": {},
   "outputs": [
    {
     "data": {
      "text/plain": [
       "<matplotlib.legend.Legend at 0x1e7b185b278>"
      ]
     },
     "execution_count": 7,
     "metadata": {},
     "output_type": "execute_result"
    },
    {
     "data": {
      "image/png": "[encoded data removed]",
      "text/plain": [
       "<Figure size 432x288 with 1 Axes>"
      ]
     },
     "metadata": {
      "needs_background": "light"
     },
     "output_type": "display_data"
    }
   ],
   "source": [
    "#x = english, y = math\n",
    "x = np.array([62, 95, 83, 100, 72, 71, 55, 85, 67, 75])\n",
    "y = np.array([62, 80, 85, 95, 58, 76, 52, 84, 67, 71])\n",
    "\n",
    "# 近似直線の式の　a と b が入ったタプルを得る\n",
    "p = np.polyfit(x, y, 1)\n",
    "\n",
    "# 一次関数の式のオブジェクトを生成する\n",
    "f = np.poly1d(p)\n",
    "\n",
    "# 散布図と近似直線を描く\n",
    "#散布図は青、凡例score\n",
    "#直線は赤、,凡例lsm\n",
    "plt.scatter(x, y,color = \"blue\",label = \"score\")\n",
    "plt.plot(x,f(x),color = \"red\",label = \"lsm\")\n",
    "plt.legend(loc = \"upper left\")"
   ]
  }
 ],
 "metadata": {
  "kernelspec": {
   "display_name": "Python 3",
   "language": "python",
   "name": "python3"
  },
  "language_info": {
   "codemirror_mode": {
    "name": "ipython",
    "version": 3
   },
   "file_extension": ".py",
   "mimetype": "text/x-python",
   "name": "python",
   "nbconvert_exporter": "python",
   "pygments_lexer": "ipython3",
   "version": "3.7.0"
  }
 },
 "nbformat": 4,
 "nbformat_minor": 2
}
